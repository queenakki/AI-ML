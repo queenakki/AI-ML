{
  "cells": [
    {
      "cell_type": "markdown",
      "metadata": {
        "id": "view-in-github",
        "colab_type": "text"
      },
      "source": [
        "<a href=\"https://colab.research.google.com/github/queenakki/problem-solving/blob/main/globalminimum.ipynb\" target=\"_parent\"><img src=\"https://colab.research.google.com/assets/colab-badge.svg\" alt=\"Open In Colab\"/></a>"
      ]
    },
    {
      "cell_type": "markdown",
      "metadata": {
        "id": "Hrsn0rOa5mDF"
      },
      "source": [
        "# **Assignment** \n",
        "# **find the global minimum point and value for the function f(x,y)=3x**2+5e**(-y)+10**\n",
        "#** do manual calculation for two iterations**\n",
        "#** find the optional solution using python programming **"
      ]
    },
    {
      "cell_type": "markdown",
      "source": [
        "# **Manual calculations:**\n",
        "given: f(x,y)=3(x**2)+5(e**(-y))+10\n",
        "the checking values for f(x,y):\n",
        "as trial and error:\n",
        "\n",
        "x=1,y=1:   f(1,1)=3(1)+5(e**(1))+10 = 14.83\n",
        "\n",
        "x=-1,y=-1:  f(-1,-1)=3((-1)**2)+5(e**(-1))+10 = \n",
        "\n",
        "x`_1 =-2,y`_1=1:   f(-2,1)=3((-2)**2)+5(e**(1))+10=-0.160(minimum)\n",
        "\n",
        "x`_2=-2,y`_2=0:   f(-2,0)=3((-2)**2)+5(e**(0))+10 = 3(maximum)\n",
        "\n",
        "a=(x`_1+x`_2)/2 = (-2-2)/2 = -2\n",
        "\n",
        "b=(y`_1+y`_2)/2 = (1+0)/2 = 0.5\n",
        "\n",
        "**x_0 = -2**\n",
        "\n",
        "**y_0 = 0.5**\n",
        " \n",
        "**let n=0.01 **\n",
        "\n",
        "gradient[x] = 6*x\n",
        "\n",
        "gradient[y] = -5*(e**(-y))\n",
        "\n",
        "delt(x_0) = n*gradient[x_0]\n",
        "        = 0.01*6*-2\n",
        "        = -0.12\n",
        "\n",
        "x_1 = x_0 + delt(x_0)\n",
        "    = (-2) + (-0.12)\n",
        "**x_1 =-2.12**\n",
        "\n",
        "delt(y_0) = n*gradient[y_0]\n",
        "        = 0.01*-5*(e**(-y))\n",
        "        = -0.030326\n",
        "\n",
        "y_1 = y_0 + delt(y_0)\n",
        "    = 0.5 + (-0.030326)\n",
        "** y_1 = 0.46976 ** \n",
        "\n",
        "delt(x_1) = n*gradient[x_1]\n",
        "        = 0.01*6*-2.12\n",
        "        = -0.1272\n",
        "\n",
        "x_2 = x_1 + delt(x_1)\n",
        "    = -2.12 -0.1272\n",
        " ** x_2  = -2.2472**\n",
        "\n",
        "delt(y_1) = n*gradient[y_1]\n",
        "        = 0.01*-5*(e**(-y))\n",
        "        = -0.0312\n",
        "\n",
        "y_2 = y_1 + delt(y_1)\n",
        "    = 0.46976 - 0.0312\n",
        " ** y_2 = 0.4388**\n",
        "\n",
        "\n",
        "\n",
        "\n",
        "\n",
        "\n"
      ],
      "metadata": {
        "id": "XPolIRSMOg3S"
      }
    },
    {
      "cell_type": "markdown",
      "source": [
        "# **Programe python calculation**"
      ],
      "metadata": {
        "id": "iQYurnmMWO-_"
      }
    },
    {
      "cell_type": "code",
      "execution_count": 28,
      "metadata": {
        "id": "-ayoB1Tmb7EB",
        "colab": {
          "base_uri": "https://localhost:8080/"
        },
        "outputId": "7753f62c-a26d-4cf4-e30d-a38dafa36472"
      },
      "outputs": [
        {
          "output_type": "stream",
          "name": "stdout",
          "text": [
            "x_0: -2\n",
            "y_0: 0.5\n",
            "enter the number of iterations:2\n",
            "iteration: 0\n",
            "gradient(x): -0.12\n",
            "x 0 term: -2.12\n",
            "gradient(y): -0.03032653298563167\n",
            "y 0 term: 0.46967346701436835\n",
            "iteration: 1\n",
            "gradient(x): -0.1272\n",
            "x 1 term: -2.2472000000000003\n",
            "gradient(y): -0.031260319273153606\n",
            "y 1 term: 0.43841314774121476\n",
            "iteration: 2\n",
            "gradient(x): -0.134832\n",
            "x 2 term: -2.382032\n",
            "gradient(y): -0.032252961151792256\n",
            "y 2 term: 0.4061601865894225\n"
          ]
        }
      ],
      "source": [
        "import math as m\n",
        "#import m.exp as e\n",
        "x_0=-2\n",
        "print(\"x_0:\",x_0)\n",
        "y_0=0.5\n",
        "print(\"y_0:\",y_0)\n",
        "i=0\n",
        "n=0.01\n",
        "s=int(input(\"enter the number of iterations:\"))\n",
        "while(i<=s):\n",
        "  print(\"iteration:\",i)\n",
        "  g = (n*6*x_0)\n",
        "  print(\"gradient(x):\",g)\n",
        "  j=i\n",
        "  #print(\"x\" ,j,\"term\",)\n",
        "  k = x_0 + g\n",
        "  print(\"x\" ,j,\"term:\",k)\n",
        "  d =(n*(m.exp(-(y_0)))*-5)\n",
        "  print(\"gradient(y):\",d)\n",
        "  u = y_0 + d\n",
        "  print(\"y\" ,j,\"term:\",u)\n",
        "  i+=1\n",
        "  x_0=k\n",
        "  y_0=u"
      ]
    },
    {
      "cell_type": "markdown",
      "metadata": {
        "id": "1oM322y-AEcT"
      },
      "source": [
        "# **Thank you**"
      ]
    }
  ],
  "metadata": {
    "colab": {
      "collapsed_sections": [],
      "provenance": [],
      "authorship_tag": "ABX9TyOmULPa26R6ofFDFfUiF6T0",
      "include_colab_link": true
    },
    "kernelspec": {
      "display_name": "Python 3",
      "name": "python3"
    },
    "language_info": {
      "name": "python"
    }
  },
  "nbformat": 4,
  "nbformat_minor": 0
}